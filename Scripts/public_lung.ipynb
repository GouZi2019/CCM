{
 "cells": [
  {
   "cell_type": "code",
   "execution_count": 1,
   "metadata": {},
   "outputs": [],
   "source": [
    "import matlab.engine\n",
    "eng = matlab.engine.start_matlab()\n",
    "eng.addpath(r'..\\CCM', nargout=0)\n",
    "eng.addpath(r'..\\CCM\\util', nargout=0)"
   ]
  },
  {
   "cell_type": "code",
   "execution_count": 2,
   "metadata": {},
   "outputs": [
    {
     "name": "stderr",
     "output_type": "stream",
     "text": [
      "c:\\Users\\Administrator\\Documents\\Envs\\crowd\\lib\\site-packages\\tqdm\\auto.py:21: TqdmWarning: IProgress not found. Please update jupyter and ipywidgets. See https://ipywidgets.readthedocs.io/en/stable/user_install.html\n",
      "  from .autonotebook import tqdm as notebook_tqdm\n"
     ]
    },
    {
     "name": "stdout",
     "output_type": "stream",
     "text": [
      "Check... 1\n",
      "CCM, done.\n",
      "{'mse': [22080.06502600966, 31059.43134681581, 839526], 'jac': [0.8458926021337477, 0.3151326999578679, 839526], 'tre': [1.482425379953573, 1.4947699712300477, 81], 'err': [-1, -1, -1], 'SDlogJ': 2.534312135904863, 'dice': [], 'hdd': [], 'time': [136.4896879196167]}\n"
     ]
    }
   ],
   "source": [
    "import sys\n",
    "sys.path.append('..')\n",
    "\n",
    "from CCM import framework as methods\n",
    "from CCM import assessment as assess\n",
    "\n",
    "import SimpleITK as sitk\n",
    "import numpy as np\n",
    "import pandas as pd\n",
    "import os\n",
    "\n",
    "def GetPointsFromLungCSV(filename, reference_image: sitk.Image):\n",
    "    keypoints_file = pd.read_csv(filename, header=None)\n",
    "    keypoints_array = np.array(keypoints_file.values.tolist())\n",
    "    \n",
    "    points_index = keypoints_array[:,:3]\n",
    "    \n",
    "    points_phy = []\n",
    "    for point_index in points_index:\n",
    "        points_phy.append(reference_image.TransformContinuousIndexToPhysicalPoint(point_index.tolist()))\n",
    "    \n",
    "    return np.array(points_phy)\n",
    "\n",
    "path = '../Data/LUNG/'\n",
    "\n",
    "# cases = list(range(1,4)) # for all validation cases\n",
    "# cases = list(range(21,31)) # for all test cases\n",
    "cases = list(range(1,2))\n",
    "use_gt_points = 'landmarks'\n",
    "\n",
    "for i in cases:\n",
    "    print('Check...', i)\n",
    "    case = '%04d' % i\n",
    "\n",
    "    fixed = sitk.ReadImage(os.path.join(path, 'images', f'LungCT_{case}_0000.nii.gz'))\n",
    "    moving = sitk.ReadImage(os.path.join(path, 'images', f'LungCT_{case}_0001.nii.gz'))\n",
    "    \n",
    "    fixed_mask = sitk.ReadImage(os.path.join(path, 'masks', f'LungCT_{case}_0000.nii.gz'))\n",
    "    moving_mask = sitk.ReadImage(os.path.join(path, 'masks', f'LungCT_{case}_0001.nii.gz'))\n",
    "    \n",
    "    fixed_landmarks = GetPointsFromLungCSV(os.path.join(path, use_gt_points, f'LungCT_{case}_0000.csv'), fixed)\n",
    "    moving_landmarks = GetPointsFromLungCSV(os.path.join(path, use_gt_points, f'LungCT_{case}_0001.csv'), moving)\n",
    "\n",
    "    output_path = os.path.join(path, 'results', f'{case}')\n",
    "    os.makedirs(output_path, exist_ok=True)\n",
    "\n",
    "    print('\\rCCM ...', end='')\n",
    "    reg = methods.Registration(fixed=fixed, moving=moving, fixed_mask=fixed_mask, moving_mask=moving_mask, matlab_eng=eng, default_value=-1024)\n",
    "    reg.PerformCCMRegistration(\n",
    "        nlevel=[1], nmigr=[1], niter=[4000], step=1, sigma=8,\n",
    "        feature_detector=reg.detectorFAST, feature_detector_size=7, feature_detector_angle=120, feature_detector_ratio=[1], feature_detector_num=[99999],\n",
    "        feature_descriptor=reg.descriptorBRISK, feature_descriptor_radius=[0,3,6,9,12], feature_descriptor_samplenum=[1,100,200,400,600], feature_descriptor_dmax=7, feature_descriptor_dmin=999,\n",
    "        feature_match_ratio=1, feature_match_crosscheck=True,\n",
    "        route_merge=True, route_check=True, route_stay=0.001,\n",
    "        ccm_k=[50], ccm_e=[0.1], ccm_j=[0.8], ccm_t=[0.5], ccm_z=[0.5])\n",
    "    reg.OutputRegistrationResult(os.path.join(output_path, f'{case}_ccm_'))\n",
    "    print('\\rCCM, done.')\n",
    "    print(assess.Assessment(registration=reg, fixed_points=fixed_landmarks, moving_points=moving_landmarks, mask=fixed_mask).AssessRegistration())"
   ]
  }
 ],
 "metadata": {
  "kernelspec": {
   "display_name": "crowd",
   "language": "python",
   "name": "python3"
  },
  "language_info": {
   "codemirror_mode": {
    "name": "ipython",
    "version": 3
   },
   "file_extension": ".py",
   "mimetype": "text/x-python",
   "name": "python",
   "nbconvert_exporter": "python",
   "pygments_lexer": "ipython3",
   "version": "3.7.1"
  },
  "orig_nbformat": 4
 },
 "nbformat": 4,
 "nbformat_minor": 2
}
