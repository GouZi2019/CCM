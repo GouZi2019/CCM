{
 "cells": [
  {
   "attachments": {},
   "cell_type": "markdown",
   "metadata": {},
   "source": [
    "### Registration"
   ]
  },
  {
   "cell_type": "code",
   "execution_count": 1,
   "metadata": {},
   "outputs": [],
   "source": [
    "import matlab.engine\n",
    "eng = matlab.engine.start_matlab()\n",
    "eng.addpath(r'..\\CCM', nargout=0)\n",
    "eng.addpath(r'..\\CCM\\util', nargout=0)"
   ]
  },
  {
   "cell_type": "code",
   "execution_count": 3,
   "metadata": {},
   "outputs": [
    {
     "name": "stdout",
     "output_type": "stream",
     "text": [
      "group 0\n",
      "1000\n",
      "Proposed, done.\n",
      "{'mse': [44.25567510825987, 132.08372020633666, 112675], 'jac': [1.000082502274798, 0.12653486659871896, 112675], 'tre': [-1, -1, -1], 'err': [0.9558484923760736, 1.817069925647859, 112675], 'SDlogJ': 0.8171705771788795, 'dice': [], 'hdd': [], 'time': [7.5957818031311035]}\n"
     ]
    }
   ],
   "source": [
    "import sys\n",
    "sys.path.append('..')\n",
    "\n",
    "from CCM import framework as methods\n",
    "from CCM import assessment as assess\n",
    "\n",
    "import SimpleITK as sitk\n",
    "import numpy as np\n",
    "import pandas as pd\n",
    "import os\n",
    "\n",
    "# groups = range(10) # for all 10 groups\n",
    "# steps = range(0, 2001, 100) # for all 20 steps\n",
    "\n",
    "groups = range(1)\n",
    "steps = range(1000, 1001)\n",
    "\n",
    "# read the fixed image and mask\n",
    "fixed_location = '../Data/NS/'\n",
    "fixed = sitk.ReadImage(os.path.join(fixed_location, 'fixed.mha'))\n",
    "mask = sitk.ReadImage(os.path.join(fixed_location, 'mask.mha'))\n",
    "\n",
    "for group in groups:\n",
    "    print('group', group)\n",
    "    output_location = f'../Data/NS/NS_Group_{group}/'\n",
    "\n",
    "    for step in steps:\n",
    "            \n",
    "        print(step)\n",
    "        \n",
    "        # read moving image\n",
    "        iter_output_location = os.path.join(output_location, \"Step_%04d\" % step)\n",
    "        moving = sitk.ReadImage(os.path.join(iter_output_location, 'moving.mha'))\n",
    "        gt_field = sitk.ReadImage(os.path.join(iter_output_location, 'gt_field.mha'))\n",
    "\n",
    "        print('\\rProposed ...', end='')\n",
    "        reg = methods.Registration(fixed=fixed, moving=moving, matlab_eng=eng)\n",
    "        reg.PerformCCMRegistration(\n",
    "            nlevel=[2,1], nmigr=[3,3], niter=[200,200], step=1, sigma=16,\n",
    "            feature_detector=reg.detectorFAST, feature_detector_size=7, feature_detector_angle=150, feature_detector_ratio=[4,2], feature_detector_num=[1000,1000],\n",
    "            feature_descriptor=reg.descriptorBRISK, feature_descriptor_radius=[0, 3, 5, 7, 9], feature_descriptor_samplenum=[1, 10, 15, 20, 25], feature_descriptor_dmax=5.5, feature_descriptor_dmin=8,\n",
    "            feature_match_ratio=1, feature_match_crosscheck=True,\n",
    "            route_merge=True, route_check=True, route_stay=0.01,\n",
    "            ccm_k=[50,50], ccm_e=[0.5,0.5], ccm_j=[0.5,0.5], ccm_t=[0.5,0.5], ccm_z=[0.5,0.5])\n",
    "        reg.OutputRegistrationResult(iter_output_location+'/ccm_')\n",
    "        print('\\rProposed, done.')\n",
    "        print(assess.Assessment(registration=reg, mask=mask, gt_field=gt_field).AssessRegistration())"
   ]
  }
 ],
 "metadata": {
  "kernelspec": {
   "display_name": "crowd",
   "language": "python",
   "name": "python3"
  },
  "language_info": {
   "codemirror_mode": {
    "name": "ipython",
    "version": 3
   },
   "file_extension": ".py",
   "mimetype": "text/x-python",
   "name": "python",
   "nbconvert_exporter": "python",
   "pygments_lexer": "ipython3",
   "version": "3.7.1"
  },
  "orig_nbformat": 4
 },
 "nbformat": 4,
 "nbformat_minor": 2
}
