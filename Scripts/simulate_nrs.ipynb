{
 "cells": [
  {
   "attachments": {},
   "cell_type": "markdown",
   "metadata": {},
   "source": [
    "### Registration"
   ]
  },
  {
   "cell_type": "code",
   "execution_count": 1,
   "metadata": {},
   "outputs": [],
   "source": [
    "import matlab.engine\n",
    "eng = matlab.engine.start_matlab()\n",
    "eng.addpath(r'..\\CCM', nargout=0)\n",
    "eng.addpath(r'..\\CCM\\util', nargout=0)"
   ]
  },
  {
   "cell_type": "code",
   "execution_count": 2,
   "metadata": {},
   "outputs": [
    {
     "name": "stderr",
     "output_type": "stream",
     "text": [
      "c:\\Users\\Administrator\\Documents\\Envs\\crowd\\lib\\site-packages\\tqdm\\auto.py:21: TqdmWarning: IProgress not found. Please update jupyter and ipywidgets. See https://ipywidgets.readthedocs.io/en/stable/user_install.html\n",
      "  from .autonotebook import tqdm as notebook_tqdm\n"
     ]
    },
    {
     "name": "stdout",
     "output_type": "stream",
     "text": [
      "group 0\n",
      "angle 180\n",
      "CCM Flight, done.\n",
      "{'mse': [701.5250774801469, 2201.202455185283, 112675], 'jac': [0.9756982322156134, 0.1696927880079139, 112675], 'tre': [-1, -1, -1], 'err': [4.244557703351208, 5.773378491860486, 112675], 'SDlogJ': 0.3414468920831963, 'dice': [], 'hdd': [], 'time': [1.801011085510254]}\n",
      "CCM, done.\n",
      "{'mse': [52.012165574065726, 170.46760645399294, 112675], 'jac': [1.0003747251170796, 0.12358392880935212, 112675], 'tre': [-1, -1, -1], 'err': [1.2784170282369107, 2.112289989519708, 112675], 'SDlogJ': 0.2928103874778229, 'dice': [], 'hdd': [], 'time': [4.318360328674316]}\n"
     ]
    }
   ],
   "source": [
    "import sys\n",
    "sys.path.append('..')\n",
    "\n",
    "from CCM import framework as methods\n",
    "from CCM import assessment as assess\n",
    "\n",
    "import SimpleITK as sitk\n",
    "import numpy as np\n",
    "import pandas as pd\n",
    "import os\n",
    "\n",
    "# read the fixed image and mask\n",
    "fixed_location = '../Data/NRS/'\n",
    "fixed = sitk.ReadImage(os.path.join(fixed_location, 'fixed.mha'))\n",
    "mask = sitk.ReadImage(os.path.join(fixed_location, 'mask.mha'))\n",
    "\n",
    "# groups = range(10) # for all groups\n",
    "# angles = range(0,360,10) # for all angles\n",
    "\n",
    "groups = range(1)\n",
    "angles = range(180,181)\n",
    "\n",
    "for group in groups:\n",
    "    print('group', group)\n",
    "    output_location = f'../Data/NRS/NRS_Group_{group}/'\n",
    "    \n",
    "    for angle in angles:\n",
    "        \n",
    "        print('angle', angle)\n",
    "        \n",
    "        # read moving image\n",
    "        iter_output_location = os.path.join(output_location, \"Angle_%03d\" % angle)\n",
    "        moving = sitk.ReadImage(os.path.join(iter_output_location, 'moving.mha'))\n",
    "        gt_field = sitk.ReadImage(os.path.join(iter_output_location, 'gt_field.mha'))\n",
    "\n",
    "        print('\\rCCM Flight ...', end='')\n",
    "        reg = methods.Registration(fixed=fixed, moving=moving, matlab_eng=eng)\n",
    "        reg.PerformCCMRegistration(\n",
    "            nlevel=[2], nmigr=[1], niter=[0], step=1, sigma=16,\n",
    "            feature_detector=reg.detectorFAST, feature_detector_size=7, feature_detector_angle=150, feature_detector_ratio=[4], feature_detector_num=[1000],\n",
    "            feature_descriptor=reg.descriptorBRISK, feature_descriptor_radius=[0, 3, 5, 7, 9], feature_descriptor_samplenum=[1, 10, 15, 20, 25], feature_descriptor_dmax=5.5, feature_descriptor_dmin=8,\n",
    "            feature_match_ratio=1, feature_match_crosscheck=True,\n",
    "            route_merge=True, route_check=True, route_stay=0.01,\n",
    "            ccm_k=[50], ccm_e=[0.5], ccm_j=[0.5], ccm_t=[0.5], ccm_z=[0.5])\n",
    "        print('\\rCCM Flight, done.')\n",
    "        reg.OutputRegistrationResult(iter_output_location+'/ccm_flight_')\n",
    "        print(assess.Assessment(registration=reg, mask=mask, gt_field=gt_field).AssessRegistration())\n",
    "        \n",
    "        print('\\rCCM ...', end='')\n",
    "        reg = methods.Registration(fixed=fixed, moving=moving, matlab_eng=eng)\n",
    "        reg.PerformCCMRegistration(\n",
    "            nlevel=[2,1], nmigr=[3,3], niter=[200,200], step=1, sigma=16,\n",
    "            feature_detector=reg.detectorFAST, feature_detector_size=7, feature_detector_angle=150, feature_detector_ratio=[4,2], feature_detector_num=[1000,1000],\n",
    "            feature_descriptor=reg.descriptorBRISK, feature_descriptor_radius=[0, 3, 5, 7, 9], feature_descriptor_samplenum=[1, 10, 15, 20, 25], feature_descriptor_dmax=5.5, feature_descriptor_dmin=8,\n",
    "            feature_match_ratio=1, feature_match_crosscheck=True,\n",
    "            route_merge=True, route_check=True, route_stay=0.01,\n",
    "            ccm_k=[50,50], ccm_e=[0.5,0.5], ccm_j=[0.5,0.5], ccm_t=[0.5,0.5], ccm_z=[0.5,0.5])\n",
    "        reg.OutputRegistrationResult(iter_output_location+'/ccm_')\n",
    "        print('\\rCCM, done.')\n",
    "        print(assess.Assessment(registration=reg, mask=mask, gt_field=gt_field).AssessRegistration())"
   ]
  }
 ],
 "metadata": {
  "kernelspec": {
   "display_name": "crowd",
   "language": "python",
   "name": "python3"
  },
  "language_info": {
   "codemirror_mode": {
    "name": "ipython",
    "version": 3
   },
   "file_extension": ".py",
   "mimetype": "text/x-python",
   "name": "python",
   "nbconvert_exporter": "python",
   "pygments_lexer": "ipython3",
   "version": "3.7.1"
  },
  "orig_nbformat": 4
 },
 "nbformat": 4,
 "nbformat_minor": 2
}
