{
 "cells": [
  {
   "cell_type": "code",
   "execution_count": 1,
   "metadata": {},
   "outputs": [],
   "source": [
    "import matlab.engine\n",
    "eng = matlab.engine.start_matlab()\n",
    "eng.addpath(r'..\\CCM', nargout=0)\n",
    "eng.addpath(r'..\\CCM\\util', nargout=0)"
   ]
  },
  {
   "cell_type": "code",
   "execution_count": 2,
   "metadata": {},
   "outputs": [
    {
     "name": "stderr",
     "output_type": "stream",
     "text": [
      "c:\\Users\\Administrator\\Documents\\Envs\\crowd\\lib\\site-packages\\tqdm\\auto.py:21: TqdmWarning: IProgress not found. Please update jupyter and ipywidgets. See https://ipywidgets.readthedocs.io/en/stable/user_install.html\n",
      "  from .autonotebook import tqdm as notebook_tqdm\n"
     ]
    },
    {
     "name": "stdout",
     "output_type": "stream",
     "text": [
      "OK dataset, Object: Blanket1, Frame: 1\n",
      "CCM, done.\n",
      "{'mse': [58.72562174479167, 66.84191670417896, 307200], 'jac': [0.9087425615308155, 0.26570979327287625, 307200], 'tre': [1.3641298491152853, 0.7340707264640861, 50], 'err': [-1, -1, -1], 'SDlogJ': 0.925150005034945, 'dice': [], 'hdd': [], 'time': [5.699373006820679]}\n"
     ]
    }
   ],
   "source": [
    "import sys\n",
    "sys.path.append('..')\n",
    "\n",
    "from CCM import framework as methods\n",
    "from CCM import assessment as assess\n",
    "\n",
    "import SimpleITK as sitk\n",
    "import numpy as np\n",
    "import pandas as pd\n",
    "import os\n",
    "\n",
    "def GetPointsFromFireTxt(location, object, frame):\n",
    "    fixed_file_name = os.path.join(location, object, 'cloud_master.csv')\n",
    "    moving_file_name = os.path.join(location, object, f'cloud_{frame}.csv')\n",
    "    \n",
    "    fixed_data = pd.read_csv(fixed_file_name)\n",
    "    fixed_points = fixed_data.values[:,1:-1].astype(np.float64)\n",
    "\n",
    "    moving_data = pd.read_csv(moving_file_name)\n",
    "    moving_points = moving_data.values[:,1:-1].astype(np.float64)\n",
    "    \n",
    "    visible_index = np.where(moving_points[:,0]>-1)[0]\n",
    "    fixed_points = fixed_points[visible_index,:]\n",
    "    moving_points = moving_points[visible_index,:]\n",
    "    return [fixed_points, moving_points]\n",
    "\n",
    "data_location = '../Data/OK/'\n",
    "# data_objects = {'objects':['Bag1', 'Blanket1', 'Can1', 'Shirt1', 'Shirt2', 'Shirt3'], 'frames':[4, 15, 6, 14, 18, 17]} # for all objects in OK\n",
    "data_objects = {'objects':['Blanket1'], 'frames':[15]}\n",
    "               \n",
    "for object_index in range(len(data_objects['objects'])):\n",
    "    object = data_objects['objects'][object_index]\n",
    "    # for frame_index in range(data_objects['frames'][object_index]): # for all frames\n",
    "    for frame_index in range(1):\n",
    "        frame = frame_index + 1\n",
    "        \n",
    "        print(f'OK dataset, Object: {object}, Frame: {frame}')\n",
    "\n",
    "        fixed = sitk.ReadImage(os.path.join(data_location, object, 'cloud_master-rgb.png'), sitk.sitkUInt8)\n",
    "        moving = sitk.ReadImage(os.path.join(data_location, object, f'cloud_{frame}-rgb.png'), sitk.sitkUInt8)\n",
    "        fixed_points, moving_points = GetPointsFromFireTxt(data_location, object, frame)\n",
    "\n",
    "        output_path = os.path.join(data_location, 'Results', object, f'frame_{frame}')\n",
    "        os.makedirs(output_path, exist_ok=True)\n",
    "\n",
    "        print('\\rCCM ...', end='')\n",
    "        reg = methods.Registration(fixed=fixed, moving=moving, matlab_eng=eng)\n",
    "        reg.PerformCCMRegistration(\n",
    "            nlevel=[1], nmigr=[3], niter=[200], step=1, sigma=16,\n",
    "            feature_detector=reg.detectorFAST, feature_detector_size=7, feature_detector_angle=150, feature_detector_ratio=[5], feature_detector_num=[1000],\n",
    "            feature_descriptor=reg.descriptorBRISK, feature_descriptor_radius=[0, 3, 5, 7, 9], feature_descriptor_samplenum=[1, 10, 15, 20, 25], feature_descriptor_dmax=5, feature_descriptor_dmin=8,\n",
    "            feature_match_ratio=1, feature_match_crosscheck=True,\n",
    "            route_merge=True, route_check=True, route_stay=0.01, mask_valid=False,\n",
    "            ccm_k=[50], ccm_e=[0.5], ccm_j=[0.5], ccm_t=[0.5], ccm_z=[0.5])\n",
    "        reg.OutputRegistrationResult(os.path.join(output_path, f'{object}_{frame}_ccm_'))\n",
    "        print('\\rCCM, done.')\n",
    "        print(assess.Assessment(registration=reg, fixed_points=fixed_points, moving_points=moving_points).AssessRegistration())\n",
    "        \n",
    "        break\n",
    "            "
   ]
  }
 ],
 "metadata": {
  "kernelspec": {
   "display_name": "crowd",
   "language": "python",
   "name": "python3"
  },
  "language_info": {
   "codemirror_mode": {
    "name": "ipython",
    "version": 3
   },
   "file_extension": ".py",
   "mimetype": "text/x-python",
   "name": "python",
   "nbconvert_exporter": "python",
   "pygments_lexer": "ipython3",
   "version": "3.7.1"
  },
  "orig_nbformat": 4
 },
 "nbformat": 4,
 "nbformat_minor": 2
}
