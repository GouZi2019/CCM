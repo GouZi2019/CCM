{
 "cells": [
  {
   "attachments": {},
   "cell_type": "markdown",
   "metadata": {},
   "source": [
    "### Preprocessing images data\n",
    "1. rgb2gray\n",
    "2. HistogramMatching"
   ]
  },
  {
   "cell_type": "code",
   "execution_count": 1,
   "metadata": {},
   "outputs": [
    {
     "name": "stdout",
     "output_type": "stream",
     "text": [
      "P01\n"
     ]
    }
   ],
   "source": [
    "import SimpleITK as sitk\n",
    "\n",
    "images_location = '../Data/FIRE/Images/'\n",
    "output_location = '../Data/FIRE/Results/'\n",
    "\n",
    "import os\n",
    "os.makedirs(output_location, exist_ok=True)\n",
    "\n",
    "# use 'P' images: total 49 image pairs\n",
    "data_categories = ['P']\n",
    "# data_numbers = range(49)  # when using all images\n",
    "data_numbers = range(1)\n",
    "\n",
    "for cat in range(len(data_categories)):\n",
    "    for num in data_numbers:\n",
    "        # make dir for each pair\n",
    "        iter_pair_name = data_categories[cat] + \"%02d\" % (num+1)\n",
    "        iter_output_location = output_location + iter_pair_name\n",
    "        os.makedirs(iter_output_location, exist_ok=True)\n",
    "        \n",
    "        print(iter_pair_name)\n",
    "        # fixed image: #1 image in pair\n",
    "        gray_fixed = sitk.ReadImage(images_location + f'{iter_pair_name}_1.jpg', sitk.sitkUInt8)\n",
    "        gray_fixed.SetSpacing([1,1])\n",
    "        # moving image: #2 image in pair\n",
    "        gray_moving = sitk.ReadImage(images_location + f'{iter_pair_name}_2.jpg', sitk.sitkUInt8)\n",
    "        gray_moving.SetSpacing([1,1])\n",
    "        \n",
    "        # HistogramMatching\n",
    "        matcher = sitk.HistogramMatchingImageFilter()\n",
    "        matcher.SetNumberOfHistogramLevels(128)\n",
    "        matcher.SetNumberOfMatchPoints(7)\n",
    "        matcher.ThresholdAtMeanIntensityOn()\n",
    "        histogram_moving = matcher.Execute(gray_moving, gray_fixed)\n",
    "        \n",
    "        sitk.WriteImage(gray_fixed, iter_output_location + f'/{iter_pair_name}_fixed.mha', True)\n",
    "        sitk.WriteImage(histogram_moving, iter_output_location + f'/{iter_pair_name}_moving.mha', True)        "
   ]
  },
  {
   "attachments": {},
   "cell_type": "markdown",
   "metadata": {},
   "source": [
    "### Registration"
   ]
  },
  {
   "cell_type": "code",
   "execution_count": 2,
   "metadata": {},
   "outputs": [],
   "source": [
    "import matlab.engine\n",
    "eng = matlab.engine.start_matlab()\n",
    "eng.addpath(r'..\\CCM', nargout=0)\n",
    "eng.addpath(r'..\\CCM\\util', nargout=0)"
   ]
  },
  {
   "cell_type": "code",
   "execution_count": 3,
   "metadata": {},
   "outputs": [
    {
     "name": "stderr",
     "output_type": "stream",
     "text": [
      "c:\\Users\\Administrator\\Documents\\Envs\\crowd\\lib\\site-packages\\tqdm\\auto.py:21: TqdmWarning: IProgress not found. Please update jupyter and ipywidgets. See https://ipywidgets.readthedocs.io/en/stable/user_install.html\n",
      "  from .autonotebook import tqdm as notebook_tqdm\n"
     ]
    },
    {
     "name": "stdout",
     "output_type": "stream",
     "text": [
      "P01\n",
      "CCM, done.\n",
      "{'mse': [95.4135211090274, 74.79093350419375, 5813887], 'jac': [0.9713647933380106, 0.11934576370956784, 5813887], 'tre': [3.656571319332495, 2.5651593172765286, 10], 'err': [-1, -1, -1], 'SDlogJ': 0.4460127354608442, 'dice': [], 'hdd': [], 'time': [5.981007814407349]}\n"
     ]
    }
   ],
   "source": [
    "\n",
    "import SimpleITK as sitk\n",
    "import sys\n",
    "sys.path.append('..')\n",
    "import os \n",
    "\n",
    "from CCM import framework as methods\n",
    "from CCM import assessment as assess\n",
    "\n",
    "points_location = '../Data/FIRE/Ground Truth/'\n",
    "mask_location = '../Data/FIRE/Masks/'\n",
    "output_location = '../Data/FIRE/Results/'\n",
    "\n",
    "def GetPointsFromFireTxt(location, pair_name):\n",
    "    file_name = location + f'control_points_{pair_name}_1_2.txt'\n",
    "    file = open(file_name)\n",
    "    \n",
    "    pfs = []; pms = []\n",
    "    for line in file.readlines():\n",
    "        split_line = line.split(' ')\n",
    "        pf = [split_line[0], split_line[1]]\n",
    "        pm = [split_line[2], split_line[3]]\n",
    "\n",
    "        pfs.append(pf)\n",
    "        pms.append(pm)\n",
    "        \n",
    "    return pfs, pms\n",
    "\n",
    "data_categories = ['P']\n",
    "# data_numbers = [range(49)]  # when using all images\n",
    "data_numbers = [range(1)]\n",
    "\n",
    "mask = sitk.ReadImage(mask_location + 'mask.png', sitk.sitkUInt8) > 1\n",
    "feat_mask = sitk.ReadImage(mask_location + 'feature_mask.png', sitk.sitkUInt8) > 1\n",
    "feat_mask = sitk.BinaryErode(feat_mask, [100,100])\n",
    "\n",
    "for cat in range(len(data_categories)):\n",
    "    for num in data_numbers[cat]:\n",
    "        \n",
    "        # your turn\n",
    "        iter_pair_name = data_categories[cat] + \"%02d\" % (num+1)\n",
    "        iter_output_location = output_location + iter_pair_name\n",
    "        print(iter_pair_name)\n",
    "        \n",
    "        fixed = sitk.ReadImage(iter_output_location + f'/{iter_pair_name}_fixed.mha')\n",
    "        moving = sitk.ReadImage(iter_output_location + f'/{iter_pair_name}_moving.mha')\n",
    "        fixed_points, moving_points = GetPointsFromFireTxt(points_location, iter_pair_name)\n",
    "\n",
    "        # CCM\n",
    "        print('\\rCCM ...', end='')\n",
    "        reg = methods.Registration(fixed=fixed, moving=moving, matlab_eng=eng, fixed_mask=feat_mask, moving_mask=feat_mask)\n",
    "        reg.PerformCCMRegistration(\n",
    "            nlevel=[4], nmigr=[3], niter=[200], step=1, sigma=16,\n",
    "            feature_detector=reg.detectorFAST, feature_detector_size=7, feature_detector_angle=150, feature_detector_ratio=[4], feature_detector_num=[2000],\n",
    "            feature_descriptor=reg.descriptorBRISK, feature_descriptor_radius=[0, 3, 5, 7, 9, 11], feature_descriptor_samplenum=[1, 10, 15, 20, 25, 30], feature_descriptor_dmax=7, feature_descriptor_dmin=999,\n",
    "            feature_match_ratio=1, feature_match_crosscheck=True,\n",
    "            route_merge=True, route_check=True, route_stay=0.01,\n",
    "            ccm_k=[50], ccm_e=[0.1], ccm_j=[0.5], ccm_t=[0.5], ccm_z=[0.5])\n",
    "        print('\\rCCM, done.')\n",
    "        reg.OutputRegistrationResult(iter_output_location + f'/{iter_pair_name}_ccm_')\n",
    "        print(assess.Assessment(registration=reg, mask=mask, fixed_points=fixed_points, moving_points=moving_points).AssessRegistration()) "
   ]
  }
 ],
 "metadata": {
  "kernelspec": {
   "display_name": "crowd",
   "language": "python",
   "name": "python3"
  },
  "language_info": {
   "codemirror_mode": {
    "name": "ipython",
    "version": 3
   },
   "file_extension": ".py",
   "mimetype": "text/x-python",
   "name": "python",
   "nbconvert_exporter": "python",
   "pygments_lexer": "ipython3",
   "version": "3.7.1"
  },
  "orig_nbformat": 4
 },
 "nbformat": 4,
 "nbformat_minor": 2
}
